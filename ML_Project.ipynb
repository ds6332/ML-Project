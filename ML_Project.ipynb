{
  "nbformat": 4,
  "nbformat_minor": 0,
  "metadata": {
    "colab": {
      "name": "ML Project.ipynb",
      "provenance": [],
      "authorship_tag": "ABX9TyO1fUhDdXtKcwrbCM2Enmgu",
      "include_colab_link": true
    },
    "kernelspec": {
      "name": "python3",
      "display_name": "Python 3"
    },
    "language_info": {
      "name": "python"
    },
    "accelerator": "GPU"
  },
  "cells": [
    {
      "cell_type": "markdown",
      "metadata": {
        "id": "view-in-github",
        "colab_type": "text"
      },
      "source": [
        "<a href=\"https://colab.research.google.com/github/ds6332/ML-Project/blob/main/ML_Project.ipynb\" target=\"_parent\"><img src=\"https://colab.research.google.com/assets/colab-badge.svg\" alt=\"Open In Colab\"/></a>"
      ]
    },
    {
      "cell_type": "markdown",
      "source": [
        "#The objective is to detect Fake news."
      ],
      "metadata": {
        "id": "ZMf6yRTKJo-A"
      }
    },
    {
      "cell_type": "markdown",
      "source": [
        "Data set used: https://www.kaggle.com/c/fake-news/data?select=train.csv"
      ],
      "metadata": {
        "id": "PjSGY7fiC-FU"
      }
    },
    {
      "cell_type": "code",
      "source": [
        "import pandas as pd\n",
        "import csv\n",
        "import numpy as np\n",
        "import nltk\n",
        "from nltk.stem import SnowballStemmer\n",
        "from nltk.stem.porter import PorterStemmer\n",
        "from nltk.tokenize import word_tokenize\n",
        "import seaborn as sb"
      ],
      "metadata": {
        "id": "egtTKS4j6lkp"
      },
      "execution_count": 16,
      "outputs": []
    },
    {
      "cell_type": "code",
      "source": [
        "\n",
        "import numpy as np\n",
        "import pandas as pd\n",
        "import pickle\n",
        "from sklearn.feature_extraction.text import CountVectorizer\n",
        "from sklearn.feature_extraction.text import TfidfTransformer\n",
        "from sklearn.feature_extraction.text import TfidfVectorizer\n",
        "from sklearn.pipeline import Pipeline\n",
        "from sklearn.naive_bayes import MultinomialNB\n",
        "from sklearn.linear_model import  LogisticRegression\n",
        "from sklearn.linear_model import SGDClassifier\n",
        "from sklearn import svm\n",
        "from sklearn.ensemble import RandomForestClassifier\n",
        "from sklearn.model_selection import KFold\n",
        "from sklearn.metrics import confusion_matrix, f1_score, classification_report\n",
        "from sklearn.model_selection import GridSearchCV\n",
        "from sklearn.model_selection import learning_curve\n",
        "import matplotlib.pyplot as plt\n",
        "from sklearn.metrics import precision_recall_curve\n",
        "from sklearn.metrics import average_precision_score"
      ],
      "metadata": {
        "id": "P44oMa9_7i-b"
      },
      "execution_count": 40,
      "outputs": []
    },
    {
      "cell_type": "code",
      "source": [
        "#import DataPrep\n",
        "import pandas as pd\n",
        "import numpy as np\n",
        "from sklearn.feature_extraction.text import CountVectorizer\n",
        "from sklearn.feature_extraction.text import TfidfTransformer\n",
        "from sklearn.feature_extraction.text import TfidfVectorizer\n",
        "from sklearn.pipeline import Pipeline\n",
        "import nltk\n",
        "import nltk.corpus \n",
        "from nltk.tokenize import word_tokenize\n",
        "from gensim.models.word2vec import Word2Vec"
      ],
      "metadata": {
        "id": "maGPStI97IF-"
      },
      "execution_count": 29,
      "outputs": []
    },
    {
      "cell_type": "markdown",
      "source": [
        "###Dataset:https://github.com/ds6332/ML-Project"
      ],
      "metadata": {
        "id": "xhOJUNjdFgC3"
      }
    },
    {
      "cell_type": "code",
      "source": [
        "test_filename = './test.csv'\n",
        "train_filename = './train.csv'\n",
        "valid_filename = './validation.csv'"
      ],
      "metadata": {
        "id": "Bwl7qFtj6mJi"
      },
      "execution_count": 17,
      "outputs": []
    },
    {
      "cell_type": "code",
      "source": [
        "train_news = pd.read_csv(train_filename,encoding='cp1252')\n",
        "test_news = pd.read_csv(test_filename,encoding='cp1252')\n",
        "valid_news = pd.read_csv(valid_filename,encoding='cp1252')\n"
      ],
      "metadata": {
        "id": "NAsuNVwD6so3"
      },
      "execution_count": 18,
      "outputs": []
    },
    {
      "cell_type": "markdown",
      "source": [
        "#Extracting just the statements and the label"
      ],
      "metadata": {
        "id": "7pQXUZI-DMtB"
      }
    },
    {
      "cell_type": "code",
      "source": [
        "train_news = train_news.loc[:,['Statement','Label']]\n",
        "test_news = test_news.loc[:,['Statement','Label']]\n",
        "valid_news = valid_news.loc[:,['Statement','Label']]"
      ],
      "metadata": {
        "id": "-_DSqv2U6vWM"
      },
      "execution_count": 19,
      "outputs": []
    },
    {
      "cell_type": "code",
      "source": [
        "from sklearn.preprocessing import LabelEncoder\n",
        "le = LabelEncoder()\n"
      ],
      "metadata": {
        "id": "enRv8RZV6xrK"
      },
      "execution_count": 20,
      "outputs": []
    },
    {
      "cell_type": "markdown",
      "source": [
        "Encode labels to 0s and 1s."
      ],
      "metadata": {
        "id": "YvGybFWPDYOZ"
      }
    },
    {
      "cell_type": "code",
      "source": [
        "train_news['Label'] = le.fit_transform(train_news['Label'])\n",
        "test_news['Label'] = le.fit_transform(test_news['Label'])\n",
        "valid_news['Label'] = le.fit_transform(valid_news['Label'])\n"
      ],
      "metadata": {
        "id": "3J4mGcV_6zjp"
      },
      "execution_count": 21,
      "outputs": []
    },
    {
      "cell_type": "code",
      "source": [
        "def data_obs():\n",
        "    print(\"training dataset size:\")\n",
        "    print(train_news.shape)\n",
        "    print(train_news.head(10))\n",
        "\n",
        "    #below dataset were used for testing and validation purposes\n",
        "    print(test_news.shape)\n",
        "    print(test_news.head(10))\n",
        "    \n",
        "    print(valid_news.shape)\n",
        "    print(valid_news.head(10))\n",
        "    \n",
        "\n",
        "def create_distribution(dataFile):\n",
        "    \n",
        "    return sb.countplot(x='Label', data=dataFile, palette='hls')"
      ],
      "metadata": {
        "id": "lqW-ogoo61W-"
      },
      "execution_count": 81,
      "outputs": []
    },
    {
      "cell_type": "markdown",
      "source": [
        "#Distribution of Data"
      ],
      "metadata": {
        "id": "oDCV8oVQDnk-"
      }
    },
    {
      "cell_type": "markdown",
      "source": [
        "###class 1:Fake\n",
        "###class 0:Not Fake"
      ],
      "metadata": {
        "id": "AF8yjjUYb0oo"
      }
    },
    {
      "cell_type": "markdown",
      "source": [
        "Train set\n"
      ],
      "metadata": {
        "id": "nD5xf5rKDpTx"
      }
    },
    {
      "cell_type": "code",
      "source": [
        "create_distribution(train_news)\n"
      ],
      "metadata": {
        "colab": {
          "base_uri": "https://localhost:8080/",
          "height": 299
        },
        "id": "qCM1YJre65Np",
        "outputId": "225e67c7-89f5-4b13-c1ba-e05733f8ef7a"
      },
      "execution_count": 82,
      "outputs": [
        {
          "output_type": "execute_result",
          "data": {
            "text/plain": [
              "<matplotlib.axes._subplots.AxesSubplot at 0x7f791b41bc10>"
            ]
          },
          "metadata": {},
          "execution_count": 82
        },
        {
          "output_type": "display_data",
          "data": {
            "text/plain": [
              "<Figure size 432x288 with 1 Axes>"
            ],
            "image/png": "[encoded data removed]"
          },
          "metadata": {
            "needs_background": "light"
          }
        }
      ]
    },
    {
      "cell_type": "markdown",
      "source": [
        "Test Set"
      ],
      "metadata": {
        "id": "kX1hFF0RDsCf"
      }
    },
    {
      "cell_type": "code",
      "source": [
        "create_distribution(test_news)\n"
      ],
      "metadata": {
        "colab": {
          "base_uri": "https://localhost:8080/",
          "height": 296
        },
        "id": "FbXFLyDyDtTk",
        "outputId": "90a4215b-2340-4a0c-b42a-232a5caf87db"
      },
      "execution_count": 83,
      "outputs": [
        {
          "output_type": "execute_result",
          "data": {
            "text/plain": [
              "<matplotlib.axes._subplots.AxesSubplot at 0x7f791b307a90>"
            ]
          },
          "metadata": {},
          "execution_count": 83
        },
        {
          "output_type": "display_data",
          "data": {
            "text/plain": [
              "<Figure size 432x288 with 1 Axes>"
            ],
            "image/png": "[encoded data removed]"
          },
          "metadata": {
            "needs_background": "light"
          }
        }
      ]
    },
    {
      "cell_type": "markdown",
      "source": [
        "Validation set"
      ],
      "metadata": {
        "id": "W2bGpv93Dvj-"
      }
    },
    {
      "cell_type": "code",
      "source": [
        "create_distribution(valid_news)"
      ],
      "metadata": {
        "colab": {
          "base_uri": "https://localhost:8080/",
          "height": 300
        },
        "id": "iqy0b71QDwvL",
        "outputId": "1d557791-3f9a-4080-e9e6-64fda385f6c8"
      },
      "execution_count": 84,
      "outputs": [
        {
          "output_type": "execute_result",
          "data": {
            "text/plain": [
              "<matplotlib.axes._subplots.AxesSubplot at 0x7f791b2c8ed0>"
            ]
          },
          "metadata": {},
          "execution_count": 84
        },
        {
          "output_type": "display_data",
          "data": {
            "text/plain": [
              "<Figure size 432x288 with 1 Axes>"
            ],
            "image/png": "[encoded data removed]"
          },
          "metadata": {
            "needs_background": "light"
          }
        }
      ]
    },
    {
      "cell_type": "code",
      "source": [
        "def data_Check():\n",
        "    \n",
        "    \n",
        "    train_news.isnull().sum()\n",
        "    train_news.info()\n",
        "    test_news.isnull().sum()\n",
        "    test_news.info()\n",
        "\n",
        "    valid_news.isnull().sum()\n",
        "    valid_news.info()"
      ],
      "metadata": {
        "id": "qtIBMp7Q67gU"
      },
      "execution_count": 207,
      "outputs": []
    },
    {
      "cell_type": "code",
      "source": [
        "def stem_tokens(tokens, stemmer):\n",
        "    stemmed = []\n",
        "    for token in tokens:\n",
        "        stemmed.append(stemmer.stem(token))\n",
        "    return stemmed"
      ],
      "metadata": {
        "id": "xPtr4Q4Z6_RL"
      },
      "execution_count": 25,
      "outputs": []
    },
    {
      "cell_type": "code",
      "source": [
        "#process the data\n",
        "def process_data(data,exclude_stopword=True,stem=True):\n",
        "    tokens = [w.lower() for w in data]\n",
        "    tokens_stemmed = tokens\n",
        "    tokens_stemmed = stem_tokens(tokens, eng_stemmer)\n",
        "    tokens_stemmed = [w for w in tokens_stemmed if w not in stopwords ]\n",
        "    return tokens_stemmed"
      ],
      "metadata": {
        "id": "rOhXdMqf7BHI"
      },
      "execution_count": 26,
      "outputs": []
    },
    {
      "cell_type": "markdown",
      "source": [
        "#creating ngrams"
      ],
      "metadata": {
        "id": "03cj_FS7D69b"
      }
    },
    {
      "cell_type": "code",
      "source": [
        "\n",
        "#unigram \n",
        "def create_unigram(words):\n",
        "    assert type(words) == list\n",
        "    return words\n",
        "\n",
        "#bigram\n",
        "def create_bigrams(words):\n",
        "    assert type(words) == list\n",
        "    skip = 0\n",
        "    join_str = \" \"\n",
        "    Len = len(words)\n",
        "    if Len > 1:\n",
        "        lst = []\n",
        "        for i in range(Len-1):\n",
        "            for k in range(1,skip+2):\n",
        "                if i+k < Len:\n",
        "                    lst.append(join_str.join([words[i],words[i+k]]))\n",
        "    else:\n",
        "        #set it as unigram\n",
        "        lst = create_unigram(words)\n",
        "    return lst"
      ],
      "metadata": {
        "id": "TEVr192R7DRG"
      },
      "execution_count": 27,
      "outputs": []
    },
    {
      "cell_type": "code",
      "source": [
        "porter = PorterStemmer()\n",
        "\n",
        "def tokenizer(text):\n",
        "    return text.split()\n",
        "\n",
        "\n",
        "def tokenizer_porter(text):\n",
        "    return [porter.stem(word) for word in text.split()]"
      ],
      "metadata": {
        "id": "LTs2VT8I7FSq"
      },
      "execution_count": 28,
      "outputs": []
    },
    {
      "cell_type": "code",
      "source": [
        "\n",
        "countV = CountVectorizer()\n",
        "train_count = countV.fit_transform(train_news['Statement'].values)\n",
        "\n",
        "print(countV)\n",
        "print(train_count)"
      ],
      "metadata": {
        "colab": {
          "base_uri": "https://localhost:8080/"
        },
        "id": "l4C1VdgX7Ljj",
        "outputId": "b7ddb058-6c4b-4f36-f6c7-95f6ad48064d"
      },
      "execution_count": 30,
      "outputs": [
        {
          "output_type": "stream",
          "name": "stdout",
          "text": [
            "CountVectorizer()\n",
            "  (0, 9614)\t1\n",
            "  (0, 10922)\t1\n",
            "  (0, 1011)\t1\n",
            "  (0, 6592)\t1\n",
            "  (0, 8323)\t1\n",
            "  (0, 5074)\t1\n",
            "  (0, 10643)\t1\n",
            "  (0, 10970)\t1\n",
            "  (0, 11230)\t1\n",
            "  (0, 584)\t1\n",
            "  (0, 7675)\t1\n",
            "  (0, 3240)\t1\n",
            "  (1, 10922)\t1\n",
            "  (1, 11867)\t2\n",
            "  (1, 3396)\t1\n",
            "  (1, 3147)\t1\n",
            "  (1, 7619)\t1\n",
            "  (1, 2440)\t1\n",
            "  (1, 10362)\t1\n",
            "  (1, 6008)\t1\n",
            "  (1, 10363)\t2\n",
            "  (1, 7367)\t1\n",
            "  (1, 4820)\t1\n",
            "  (1, 11072)\t1\n",
            "  (1, 7621)\t1\n",
            "  :\t:\n",
            "  (10235, 10922)\t1\n",
            "  (10235, 7619)\t2\n",
            "  (10235, 11044)\t2\n",
            "  (10235, 5224)\t1\n",
            "  (10235, 7775)\t1\n",
            "  (10235, 7771)\t1\n",
            "  (10235, 1126)\t1\n",
            "  (10235, 12084)\t2\n",
            "  (10235, 6281)\t1\n",
            "  (10235, 6556)\t1\n",
            "  (10235, 10947)\t1\n",
            "  (10235, 10938)\t1\n",
            "  (10235, 3271)\t1\n",
            "  (10235, 12091)\t1\n",
            "  (10235, 11594)\t2\n",
            "  (10235, 767)\t1\n",
            "  (10235, 2532)\t1\n",
            "  (10235, 11556)\t1\n",
            "  (10235, 2513)\t1\n",
            "  (10235, 10594)\t1\n",
            "  (10235, 8939)\t1\n",
            "  (10235, 10852)\t1\n",
            "  (10235, 3950)\t1\n",
            "  (10235, 10529)\t1\n",
            "  (10235, 6805)\t1\n"
          ]
        }
      ]
    },
    {
      "cell_type": "code",
      "source": [
        "def get_countVectorizer_stats():\n",
        "    \n",
        "    #vocab size\n",
        "    train_count.shape\n",
        "\n",
        "    #check vocabulary using below command\n",
        "    print(countV.vocabulary_)\n",
        "\n",
        "    #get feature names\n",
        "    print(countV.get_feature_names()[:25])"
      ],
      "metadata": {
        "id": "9cwpjFyN7NeN"
      },
      "execution_count": 31,
      "outputs": []
    },
    {
      "cell_type": "markdown",
      "source": [
        "https://medium.com/acing-ai/what-is-tf-idf-in-feature-engineering-7f1ba81982bd#:~:text=It%20has%20two%20parts%3A%20Term,in%20the%20document%20or%20dataset.&text=The%20second%20part%20is%20%E2%80%94%20inverse,word%20is%20to%20the%20document."
      ],
      "metadata": {
        "id": "1dH9g3KXKDo0"
      }
    },
    {
      "cell_type": "code",
      "source": [
        "\n",
        "#create tf-df frequency features\n",
        "#tf-idf \n",
        "tfidfV = TfidfTransformer()\n",
        "train_tfidf = tfidfV.fit_transform(train_count)\n",
        "\n",
        "def get_tfidf_stats():\n",
        "    train_tfidf.shape\n",
        "    #get train data feature names \n",
        "    print(train_tfidf.A[:10])\n",
        "\n",
        "\n",
        "tfidf_ngram = TfidfVectorizer(stop_words='english',ngram_range=(1,4),use_idf=True,smooth_idf=True)"
      ],
      "metadata": {
        "id": "xkmcXTs_7P5-"
      },
      "execution_count": 32,
      "outputs": []
    },
    {
      "cell_type": "markdown",
      "source": [
        "Part-of-speech (POS) tagging is a popular Natural Language Processing process which refers to categorizing words in a text (corpus) in correspondence with a particular part of speech, depending on the definition of the word and its context.\n",
        "\n",
        "More content to read: https://towardsdatascience.com/part-of-speech-tagging-for-beginners-3a0754b2ebba"
      ],
      "metadata": {
        "id": "nEYpPYWnG-QH"
      }
    },
    {
      "cell_type": "code",
      "source": [
        "#POS Tagging\n",
        "nltk.download('treebank')\n",
        "tagged_sentences = nltk.corpus.treebank.tagged_sents()\n",
        "\n",
        "cutoff = int(.75 * len(tagged_sentences))\n",
        "training_sentences = train_news['Statement']\n",
        " \n",
        "print(training_sentences)\n"
      ],
      "metadata": {
        "colab": {
          "base_uri": "https://localhost:8080/"
        },
        "id": "FI1Xdp6z7Rnd",
        "outputId": "9dceaeb3-f074-4efb-bd28-6f4daa766b41"
      },
      "execution_count": 33,
      "outputs": [
        {
          "output_type": "stream",
          "name": "stdout",
          "text": [
            "[nltk_data] Downloading package treebank to /root/nltk_data...\n",
            "[nltk_data]   Unzipping corpora/treebank.zip.\n",
            "0        Says the Annies List political group supports ...\n",
            "1        When did the decline of coal start? It started...\n",
            "2        Hillary Clinton agrees with John McCain \"by vo...\n",
            "3        Health care reform legislation is likely to ma...\n",
            "4        The economic turnaround started at the end of ...\n",
            "                               ...                        \n",
            "10231    There are a larger number of shark attacks in ...\n",
            "10232    Democrats have now become the party of the [At...\n",
            "10233    Says an alternative to Social Security that op...\n",
            "10234    On lifting the U.S. Cuban embargo and allowing...\n",
            "10235    The Department of Veterans Affairs has a manua...\n",
            "Name: Statement, Length: 10236, dtype: object\n"
          ]
        }
      ]
    },
    {
      "cell_type": "code",
      "source": [
        "#training POS tagger based on words\n",
        "def features(sentence, index):\n",
        "    \"\"\" sentence: [w1, w2, ...], index: the index of the word \"\"\"\n",
        "    return {\n",
        "        'word': sentence[index],\n",
        "        'is_first': index == 0,\n",
        "        'is_last': index == len(sentence) - 1,\n",
        "        'is_capitalized': sentence[index][0].upper() == sentence[index][0],\n",
        "        'is_all_caps': sentence[index].upper() == sentence[index],\n",
        "        'is_all_lower': sentence[index].lower() == sentence[index],\n",
        "        'prefix-1': sentence[index][0],\n",
        "        'prefix-2': sentence[index][:2],\n",
        "        'prefix-3': sentence[index][:3],\n",
        "        'suffix-1': sentence[index][-1],\n",
        "        'suffix-2': sentence[index][-2:],\n",
        "        'suffix-3': sentence[index][-3:],\n",
        "        'prev_word': '' if index == 0 else sentence[index - 1],\n",
        "        'next_word': '' if index == len(sentence) - 1 else sentence[index + 1],\n",
        "        'has_hyphen': '-' in sentence[index],\n",
        "        'is_numeric': sentence[index].isdigit(),\n",
        "        'capitals_inside': sentence[index][1:].lower() != sentence[index][1:]\n",
        "    }"
      ],
      "metadata": {
        "id": "a3d7dM-57UA5"
      },
      "execution_count": 34,
      "outputs": []
    },
    {
      "cell_type": "code",
      "source": [
        "    \n",
        "#helper function to strip tags from tagged corpus\t\n",
        "def untag(tagged_sentence):\n",
        "  return [w for w, t in tagged_sentence]"
      ],
      "metadata": {
        "id": "-riI685y7Wa4"
      },
      "execution_count": 36,
      "outputs": []
    },
    {
      "cell_type": "code",
      "source": [
        "class MeanEmbeddingVectorizer(object):\n",
        "    def __init__(self, word2vec):\n",
        "        self.word2vec = word2vec\n",
        "        # if a text is empty we should return a vector of zeros\n",
        "        # with the same dimensionality as all the other vectors\n",
        "        self.dim = len(word2vec.itervalues().next())\n",
        "\n",
        "    def fit(self, X, y):\n",
        "        return self\n",
        "\n",
        "    def transform(self, X):\n",
        "        return np.array([\n",
        "            np.mean([self.word2vec[w] for w in words if w in self.word2vec]\n",
        "                    or [np.zeros(self.dim)], axis=0)\n",
        "            for words in X\n",
        "        ])\n"
      ],
      "metadata": {
        "id": "UqSJd8G77cRj"
      },
      "execution_count": 205,
      "outputs": []
    },
    {
      "cell_type": "markdown",
      "source": [
        "#Classification"
      ],
      "metadata": {
        "id": "EDlFlfmsHm3Q"
      }
    },
    {
      "cell_type": "markdown",
      "source": [
        "#first we will use bag of words techniques"
      ],
      "metadata": {
        "id": "5ginAGtqFGvS"
      }
    },
    {
      "cell_type": "markdown",
      "source": [
        "#naive bayes classifier"
      ],
      "metadata": {
        "id": "7XnpcfhTEfSl"
      }
    },
    {
      "cell_type": "code",
      "source": [
        "nb_pipeline = Pipeline([\n",
        "        ('NBCV',countV),\n",
        "        ('nb_clf',MultinomialNB())])\n",
        "train_news = train_news.fillna(\"\")\n",
        "nb_pipeline.fit(train_news['Statement'],train_news['Label'])\n",
        "predicted_nb = nb_pipeline.predict(test_news['Statement'])\n",
        "np.mean(predicted_nb == test_news['Label'])\n",
        "\n",
        "\n"
      ],
      "metadata": {
        "colab": {
          "base_uri": "https://localhost:8080/"
        },
        "id": "WYq9IdeP7zyP",
        "outputId": "cdd07e0a-8921-458f-9d10-7ce64c8d045e"
      },
      "execution_count": 42,
      "outputs": [
        {
          "output_type": "stream",
          "name": "stderr",
          "text": [
            "/usr/local/lib/python3.7/dist-packages/sklearn/linear_model/_logistic.py:818: ConvergenceWarning: lbfgs failed to converge (status=1):\n",
            "STOP: TOTAL NO. of ITERATIONS REACHED LIMIT.\n",
            "\n",
            "Increase the number of iterations (max_iter) or scale the data as shown in:\n",
            "    https://scikit-learn.org/stable/modules/preprocessing.html\n",
            "Please also refer to the documentation for alternative solver options:\n",
            "    https://scikit-learn.org/stable/modules/linear_model.html#logistic-regression\n",
            "  extra_warning_msg=_LOGISTIC_SOLVER_CONVERGENCE_MSG,\n"
          ]
        },
        {
          "output_type": "execute_result",
          "data": {
            "text/plain": [
              "0.5994507650058847"
            ]
          },
          "metadata": {},
          "execution_count": 42
        }
      ]
    },
    {
      "cell_type": "markdown",
      "source": [
        "#logistic regression"
      ],
      "metadata": {
        "id": "vZvhfMUhEh_l"
      }
    },
    {
      "cell_type": "code",
      "source": [
        "\n",
        "logR_pipeline = Pipeline([\n",
        "        ('LogRCV',countV),\n",
        "        ('LogR_clf',LogisticRegression())\n",
        "        ])\n",
        "\n",
        "logR_pipeline.fit(train_news['Statement'],train_news['Label'])\n",
        "predicted_LogR = logR_pipeline.predict(test_news['Statement'])\n",
        "np.mean(predicted_LogR == test_news['Label'])"
      ],
      "metadata": {
        "colab": {
          "base_uri": "https://localhost:8080/"
        },
        "id": "Z5fPJRT1EjB0",
        "outputId": "af63fe7b-a595-4f26-83d0-102ac8f4cadd"
      },
      "execution_count": 85,
      "outputs": [
        {
          "output_type": "stream",
          "name": "stderr",
          "text": [
            "/usr/local/lib/python3.7/dist-packages/sklearn/linear_model/_logistic.py:818: ConvergenceWarning: lbfgs failed to converge (status=1):\n",
            "STOP: TOTAL NO. of ITERATIONS REACHED LIMIT.\n",
            "\n",
            "Increase the number of iterations (max_iter) or scale the data as shown in:\n",
            "    https://scikit-learn.org/stable/modules/preprocessing.html\n",
            "Please also refer to the documentation for alternative solver options:\n",
            "    https://scikit-learn.org/stable/modules/linear_model.html#logistic-regression\n",
            "  extra_warning_msg=_LOGISTIC_SOLVER_CONVERGENCE_MSG,\n"
          ]
        },
        {
          "output_type": "execute_result",
          "data": {
            "text/plain": [
              "0.5994507650058847"
            ]
          },
          "metadata": {},
          "execution_count": 85
        }
      ]
    },
    {
      "cell_type": "markdown",
      "source": [
        "#random forest classifier"
      ],
      "metadata": {
        "id": "B5Z99kWfEmXw"
      }
    },
    {
      "cell_type": "code",
      "source": [
        "\n",
        "random_forest = Pipeline([\n",
        "        ('rfCV',countV),\n",
        "        ('rf_clf',RandomForestClassifier(n_estimators=200,n_jobs=3))\n",
        "        ])\n",
        "    \n",
        "random_forest.fit(train_news['Statement'],train_news['Label'])\n",
        "predicted_rf = random_forest.predict(test_news['Statement'])\n",
        "np.mean(predicted_rf == test_news['Label'])"
      ],
      "metadata": {
        "colab": {
          "base_uri": "https://localhost:8080/"
        },
        "id": "CP9zHqwH71w9",
        "outputId": "a69d1063-25ab-423e-8997-63d3408e1fc0"
      },
      "execution_count": 43,
      "outputs": [
        {
          "output_type": "execute_result",
          "data": {
            "text/plain": [
              "0.6245586504511573"
            ]
          },
          "metadata": {},
          "execution_count": 43
        }
      ]
    },
    {
      "cell_type": "code",
      "source": [
        "def build_valid(classifier):\n",
        "    \n",
        "        train_text = train_news.loc[:,'Statement'] \n",
        "        train_y = train_news.loc[:,'Label']\n",
        "    \n",
        "        valid_text = valid_news.loc[:,'Statement']\n",
        "        valid_y = valid_news.loc[:,'Label']\n",
        "  \n",
        "        classifier.fit(train_text,train_y)\n",
        "        predictions = pd.Series(classifier.predict(valid_text))\n",
        "\n",
        "        scores = []\n",
        "        score = f1_score(valid_y,predictions,average='micro')\n",
        "        scores.append(score)\n",
        "        valid_y = valid_y.fillna(\"\")\n",
        "        predictions = predictions.fillna(\"\")    \n",
        "        cm = confusion_matrix(valid_y,predictions)\n",
        "        print('Total statements classified:', len(train_news))\n",
        "        print('Accuracy (%) :', (sum(scores)/len(scores))*100)\n",
        "        print(cm)\n",
        "        plt.clf()\n",
        "        plt.imshow(cm, interpolation='nearest', cmap=plt.cm.Wistia)\n",
        "        classNames = ['Negative','Positive']\n",
        "        plt.title('Fake News Detection')\n",
        "        plt.ylabel('True label')\n",
        "        plt.xlabel('Predicted label')\n",
        "        tick_marks = np.arange(len(classNames))\n",
        "        plt.xticks(tick_marks, classNames, rotation=45)\n",
        "        plt.yticks(tick_marks, classNames)\n",
        "        s = [['TN','FP'], ['FN', 'TP']]\n",
        "        for i in range(2):\n",
        "            for j in range(2):\n",
        "                plt.text(j,i, str(cm[i][j]))\n",
        "        plt.show()\n",
        "\n",
        "    \n"
      ],
      "metadata": {
        "id": "leMzlHQQ74Mk"
      },
      "execution_count": 44,
      "outputs": []
    },
    {
      "cell_type": "code",
      "source": [
        "\n",
        "build_valid(nb_pipeline)\n",
        "build_valid(logR_pipeline)\n",
        "build_valid(random_forest)"
      ],
      "metadata": {
        "colab": {
          "base_uri": "https://localhost:8080/",
          "height": 1000
        },
        "id": "ROf_rhA37_kJ",
        "outputId": "0d3ef25c-7399-45f8-bf4c-d3a9898355c5"
      },
      "execution_count": 45,
      "outputs": [
        {
          "output_type": "stream",
          "name": "stdout",
          "text": [
            "Total statements classified: 10236\n",
            "Accuracy (%) : 61.059190031152646\n",
            "[[317 299]\n",
            " [201 467]]\n"
          ]
        },
        {
          "output_type": "display_data",
          "data": {
            "text/plain": [
              "<Figure size 432x288 with 1 Axes>"
            ],
            "image/png": "[encoded data removed]"
          },
          "metadata": {
            "needs_background": "light"
          }
        },
        {
          "output_type": "stream",
          "name": "stdout",
          "text": [
            "Total statements classified: 10236\n",
            "Accuracy (%) : 58.8006230529595\n",
            "[[322 294]\n",
            " [235 433]]\n"
          ]
        },
        {
          "output_type": "stream",
          "name": "stderr",
          "text": [
            "/usr/local/lib/python3.7/dist-packages/sklearn/linear_model/_logistic.py:818: ConvergenceWarning: lbfgs failed to converge (status=1):\n",
            "STOP: TOTAL NO. of ITERATIONS REACHED LIMIT.\n",
            "\n",
            "Increase the number of iterations (max_iter) or scale the data as shown in:\n",
            "    https://scikit-learn.org/stable/modules/preprocessing.html\n",
            "Please also refer to the documentation for alternative solver options:\n",
            "    https://scikit-learn.org/stable/modules/linear_model.html#logistic-regression\n",
            "  extra_warning_msg=_LOGISTIC_SOLVER_CONVERGENCE_MSG,\n"
          ]
        },
        {
          "output_type": "display_data",
          "data": {
            "text/plain": [
              "<Figure size 432x288 with 1 Axes>"
            ],
            "image/png": "[encoded data removed]"
          },
          "metadata": {
            "needs_background": "light"
          }
        },
        {
          "output_type": "stream",
          "name": "stdout",
          "text": [
            "Total statements classified: 10236\n",
            "Accuracy (%) : 63.862928348909655\n",
            "[[277 339]\n",
            " [125 543]]\n"
          ]
        },
        {
          "output_type": "display_data",
          "data": {
            "text/plain": [
              "<Figure size 432x288 with 1 Axes>"
            ],
            "image/png": "[encoded data removed]"
          },
          "metadata": {
            "needs_background": "light"
          }
        }
      ]
    },
    {
      "cell_type": "markdown",
      "source": [
        "##Now using n-grams"
      ],
      "metadata": {
        "id": "xN8lpp2JFC1a"
      }
    },
    {
      "cell_type": "code",
      "source": [
        "\n",
        "#naive-bayes classifier\n",
        "nb_pipeline_ngram = Pipeline([\n",
        "        ('nb_tfidf',tfidf_ngram),\n",
        "        ('nb_clf',MultinomialNB())])\n",
        "\n",
        "\n",
        "#logistic regression classifier\n",
        "logR_pipeline_ngram = Pipeline([\n",
        "        ('LogR_tfidf',tfidf_ngram),\n",
        "        ('LogR_clf',LogisticRegression(penalty=\"l2\",C=1))\n",
        "        ])\n",
        "\n",
        "#random forest classifier\n",
        "random_forest_ngram = Pipeline([\n",
        "        ('rf_tfidf',tfidf_ngram),\n",
        "        ('rf_clf',RandomForestClassifier(n_estimators=300,n_jobs=3))\n",
        "        ])"
      ],
      "metadata": {
        "id": "lQDR_2OL8AFW"
      },
      "execution_count": 51,
      "outputs": []
    },
    {
      "cell_type": "code",
      "source": [
        "nb_pipeline_ngram.fit(train_news['Statement'],train_news['Label'])\n",
        "predicted_nb_ngram = nb_pipeline_ngram.predict(test_news['Statement'])\n",
        "np.mean(predicted_nb_ngram == test_news['Label'])\n",
        "\n"
      ],
      "metadata": {
        "colab": {
          "base_uri": "https://localhost:8080/"
        },
        "id": "WfWJy-wq8Dks",
        "outputId": "55b14cdb-92a7-4982-dbbd-4cb70b4d0a6a"
      },
      "execution_count": 53,
      "outputs": [
        {
          "output_type": "execute_result",
          "data": {
            "text/plain": [
              "0.5931737936445665"
            ]
          },
          "metadata": {},
          "execution_count": 53
        }
      ]
    },
    {
      "cell_type": "code",
      "source": [
        "logR_pipeline_ngram.fit(train_news['Statement'],train_news['Label'])\n",
        "predicted_LogR_ngram = logR_pipeline_ngram.predict(test_news['Statement'])\n",
        "np.mean(predicted_LogR_ngram == test_news['Label'])"
      ],
      "metadata": {
        "colab": {
          "base_uri": "https://localhost:8080/"
        },
        "id": "GP1WGpE79gTE",
        "outputId": "ea9af52f-bc5c-423e-c1b2-417788787748"
      },
      "execution_count": 54,
      "outputs": [
        {
          "output_type": "execute_result",
          "data": {
            "text/plain": [
              "0.6210278540604158"
            ]
          },
          "metadata": {},
          "execution_count": 54
        }
      ]
    },
    {
      "cell_type": "code",
      "source": [
        "random_forest_ngram.fit(train_news['Statement'],train_news['Label'])\n",
        "predicted_rf_ngram = random_forest_ngram.predict(test_news['Statement'])\n",
        "np.mean(predicted_rf_ngram == test_news['Label'])"
      ],
      "metadata": {
        "colab": {
          "base_uri": "https://localhost:8080/"
        },
        "id": "NahcuvHM9tqx",
        "outputId": "ca65d4ce-fbc1-4270-b832-e93a36a0c9c7"
      },
      "execution_count": 55,
      "outputs": [
        {
          "output_type": "execute_result",
          "data": {
            "text/plain": [
              "0.6096508434680267"
            ]
          },
          "metadata": {},
          "execution_count": 55
        }
      ]
    },
    {
      "cell_type": "code",
      "source": [
        "\n",
        "build_valid(nb_pipeline_ngram)\n",
        "build_valid(logR_pipeline_ngram)\n",
        "build_valid(random_forest_ngram)"
      ],
      "metadata": {
        "colab": {
          "base_uri": "https://localhost:8080/",
          "height": 1000
        },
        "id": "mA5ZGQgr8HYF",
        "outputId": "14d1aaff-9bb8-447a-f2f9-6937ba26e7cb"
      },
      "execution_count": 48,
      "outputs": [
        {
          "output_type": "stream",
          "name": "stdout",
          "text": [
            "Total statements classified: 10236\n",
            "Accuracy (%) : 58.41121495327103\n",
            "[[129 487]\n",
            " [ 47 621]]\n"
          ]
        },
        {
          "output_type": "display_data",
          "data": {
            "text/plain": [
              "<Figure size 432x288 with 1 Axes>"
            ],
            "image/png": "[encoded data removed]"
          },
          "metadata": {
            "needs_background": "light"
          }
        },
        {
          "output_type": "stream",
          "name": "stdout",
          "text": [
            "Total statements classified: 10236\n",
            "Accuracy (%) : 62.22741433021807\n",
            "[[257 359]\n",
            " [126 542]]\n"
          ]
        },
        {
          "output_type": "display_data",
          "data": {
            "text/plain": [
              "<Figure size 432x288 with 1 Axes>"
            ],
            "image/png": "[encoded data removed]"
          },
          "metadata": {
            "needs_background": "light"
          }
        },
        {
          "output_type": "stream",
          "name": "stdout",
          "text": [
            "Total statements classified: 10236\n",
            "Accuracy (%) : 60.046728971962615\n",
            "[[312 304]\n",
            " [209 459]]\n"
          ]
        },
        {
          "output_type": "display_data",
          "data": {
            "text/plain": [
              "<Figure size 432x288 with 1 Axes>"
            ],
            "image/png": "[encoded data removed]"
          },
          "metadata": {
            "needs_background": "light"
          }
        }
      ]
    },
    {
      "cell_type": "markdown",
      "source": [
        "printing classification report. Compare the performance between each 3 different classifiers and between bag of words model and n-gram model."
      ],
      "metadata": {
        "id": "8qujiHUgI7TV"
      }
    },
    {
      "cell_type": "code",
      "source": [
        "\n",
        "print('Naive Bayes\\n'+'Bag of words\\n'+classification_report(test_news['Label'], predicted_nb)+'\\nN-gram\\n'+classification_report(test_news['Label'], predicted_nb_ngram))\n",
        "print('Logistic Regression\\n'+'Bag of words\\n'+classification_report(test_news['Label'], predicted_LogR)+'\\nN-gram\\n'+classification_report(test_news['Label'], predicted_LogR_ngram))\n",
        "print('Random Forest\\n'+'Bag of words\\n'+classification_report(test_news['Label'], predicted_rf)+'\\nN-gram\\n'+classification_report(test_news['Label'], predicted_rf_ngram))\n",
        "\n",
        "\n",
        "\n",
        "test_news['Label'].shape\n"
      ],
      "metadata": {
        "colab": {
          "base_uri": "https://localhost:8080/"
        },
        "id": "LwXwCAAj8Hw9",
        "outputId": "2338639d-eda3-4581-d0f9-66bf03288cf4"
      },
      "execution_count": 89,
      "outputs": [
        {
          "output_type": "stream",
          "name": "stdout",
          "text": [
            "Naive Bayes\n",
            "Bag of words\n",
            "              precision    recall  f1-score   support\n",
            "\n",
            "           0       0.58      0.49      0.53      1169\n",
            "           1       0.62      0.70      0.66      1380\n",
            "\n",
            "    accuracy                           0.61      2549\n",
            "   macro avg       0.60      0.60      0.60      2549\n",
            "weighted avg       0.60      0.61      0.60      2549\n",
            "\n",
            "N-gram\n",
            "              precision    recall  f1-score   support\n",
            "\n",
            "           0       0.71      0.19      0.30      1169\n",
            "           1       0.58      0.94      0.71      1380\n",
            "\n",
            "    accuracy                           0.59      2549\n",
            "   macro avg       0.65      0.56      0.51      2549\n",
            "weighted avg       0.64      0.59      0.52      2549\n",
            "\n",
            "Logistic Regression\n",
            "Bag of words\n",
            "              precision    recall  f1-score   support\n",
            "\n",
            "           0       0.57      0.52      0.54      1169\n",
            "           1       0.62      0.67      0.64      1380\n",
            "\n",
            "    accuracy                           0.60      2549\n",
            "   macro avg       0.60      0.59      0.59      2549\n",
            "weighted avg       0.60      0.60      0.60      2549\n",
            "\n",
            "N-gram\n",
            "              precision    recall  f1-score   support\n",
            "\n",
            "           0       0.64      0.39      0.49      1169\n",
            "           1       0.61      0.82      0.70      1380\n",
            "\n",
            "    accuracy                           0.62      2549\n",
            "   macro avg       0.63      0.60      0.59      2549\n",
            "weighted avg       0.63      0.62      0.60      2549\n",
            "\n",
            "Random Forest\n",
            "Bag of words\n",
            "              precision    recall  f1-score   support\n",
            "\n",
            "           0       0.64      0.41      0.50      1169\n",
            "           1       0.62      0.81      0.70      1380\n",
            "\n",
            "    accuracy                           0.62      2549\n",
            "   macro avg       0.63      0.61      0.60      2549\n",
            "weighted avg       0.63      0.62      0.61      2549\n",
            "\n",
            "N-gram\n",
            "              precision    recall  f1-score   support\n",
            "\n",
            "           0       0.59      0.49      0.54      1169\n",
            "           1       0.62      0.71      0.66      1380\n",
            "\n",
            "    accuracy                           0.61      2549\n",
            "   macro avg       0.61      0.60      0.60      2549\n",
            "weighted avg       0.61      0.61      0.60      2549\n",
            "\n"
          ]
        },
        {
          "output_type": "execute_result",
          "data": {
            "text/plain": [
              "(2549,)"
            ]
          },
          "metadata": {},
          "execution_count": 89
        }
      ]
    },
    {
      "cell_type": "markdown",
      "source": [
        "Random Forest CLassifier : https://towardsdatascience.com/understanding-random-forest-58381e0602d2"
      ],
      "metadata": {
        "id": "S-ZWbhyoJcwC"
      }
    },
    {
      "cell_type": "markdown",
      "source": [
        "#As extra work,\n",
        "\n",
        "#Tried Neural Network Based on this paper. Didn't get expected output, and left for future learning. https://arxiv.org/pdf/1708.01967.pdf\n",
        "\n",
        "#Also tried LSTM as an extension of this paper, didnt get expected results. "
      ],
      "metadata": {
        "id": "mtilflLEVoIv"
      }
    },
    {
      "cell_type": "markdown",
      "source": [
        "#Trying a neural network to classify"
      ],
      "metadata": {
        "id": "YiiQgOBxMBfP"
      }
    },
    {
      "cell_type": "markdown",
      "source": [
        "made errors processing the data. Due to lack of time, not resolving the bugs."
      ],
      "metadata": {
        "id": "JAqowztZad0B"
      }
    },
    {
      "cell_type": "code",
      "execution_count": 4,
      "metadata": {
        "colab": {
          "base_uri": "https://localhost:8080/"
        },
        "id": "ch-iMe-32i37",
        "outputId": "7c5b8737-5b47-45e4-83c9-20dad212ff3d"
      },
      "outputs": [
        {
          "output_type": "stream",
          "name": "stdout",
          "text": [
            "[nltk_data] Downloading package stopwords to /root/nltk_data...\n",
            "[nltk_data]   Unzipping corpora/stopwords.zip.\n"
          ]
        },
        {
          "output_type": "execute_result",
          "data": {
            "text/plain": [
              "True"
            ]
          },
          "metadata": {},
          "execution_count": 4
        }
      ],
      "source": [
        "import numpy as np\n",
        "import re\n",
        "import string\n",
        "import pandas as pd\n",
        "from gensim.models import Doc2Vec\n",
        "from gensim.models.doc2vec import LabeledSentence\n",
        "from gensim import utils\n",
        "from nltk.corpus import stopwords\n",
        "import nltk\n",
        "nltk.download('stopwords')\n",
        "#from getEmbeddings import getEmbeddings\n",
        "import matplotlib.pyplot as plt\n",
        "import numpy as np\n",
        "import keras\n",
        "from keras import backend as K\n",
        "from keras.utils import np_utils\n",
        "from keras.models import Sequential\n",
        "from keras.layers import Dense, Dropout, LSTM, Embedding, Input, RepeatVector\n",
        "from tensorflow.keras.optimizers import SGD\n",
        "from sklearn.preprocessing import LabelEncoder\n",
        "from sklearn.model_selection import train_test_split\n",
        "#import scikitplot.plotters as skplt\n",
        "from sklearn.metrics import confusion_matrix\n",
        "def textClean(text):\n",
        "    text = re.sub(r\"[^A-Za-z0-9^,!.\\/'+-=]\", \" \", text)\n",
        "    text = text.lower().split()\n",
        "    stops = set(stopwords.words(\"english\"))\n",
        "    text = [w for w in text if not w in stops]\n",
        "    text = \" \".join(text)\n",
        "    return (text)\n",
        "\n",
        "\n",
        "def cleanup(text):\n",
        "    text = textClean(text)\n",
        "    text = text.translate(str.maketrans(\"\", \"\", string.punctuation))\n",
        "    return text\n",
        "\n",
        "\n",
        "def constructLabeledSentences(data):\n",
        "    sentences = []\n",
        "    for index, row in data.iteritems():\n",
        "        sentences.append(LabeledSentence(utils.to_unicode(row).split(), ['Text' + '_%s' % str(index)]))\n",
        "    return sentences\n",
        "def getEmbeddings(path,vector_dimension=300):\n",
        "    data = pd.read_csv(path,encoding = 'utf-8')\n",
        "    \n",
        "    data=data.dropna(how='any')\n",
        "\n",
        "    for i in range(len(data)):\n",
        "        data.loc[i, 'Statement'] = cleanup(data.loc[i,'Statement'])\n",
        "\n",
        "    x = constructLabeledSentences(data['Statement'])\n",
        "    y = data['Label'].values\n",
        "\n",
        "    text_model = Doc2Vec(min_count=1, window=5, vector_size=vector_dimension, sample=1e-4, negative=5, workers=7, epochs=10,\n",
        "                         seed=1)\n",
        "    text_model.build_vocab(x)\n",
        "    text_model.train(x, total_examples=text_model.corpus_count, epochs=text_model.iter)\n",
        "\n",
        "    train_size = int(0.8 * len(x))\n",
        "    test_size = len(x) - train_size\n",
        "\n",
        "    text_train_arrays = np.zeros((train_size, vector_dimension))\n",
        "    text_test_arrays = np.zeros((test_size, vector_dimension))\n",
        "    train_labels = np.zeros(train_size)\n",
        "    test_labels = np.zeros(test_size)\n",
        "\n",
        "    for i in range(train_size):\n",
        "        text_train_arrays[i] = text_model.docvecs['Text_' + str(i)]\n",
        "        train_labels[i] = y[i]\n",
        "\n",
        "    j = 0\n",
        "    for i in range(train_size, train_size + test_size):\n",
        "        text_test_arrays[j] = text_model.docvecs['Text_' + str(i)]\n",
        "        test_labels[j] = y[i]\n",
        "        j = j + 1\n",
        "\n",
        "    return text_train_arrays, text_test_arrays, train_labels, test_labels\n",
        "def plot_cmat(yte, ypred):\n",
        "        '''Plotting confusion matrix'''\n",
        "        cm = confusion_matrix(yte,ypred)\n",
        "        plt.clf()\n",
        "        plt.imshow(cm, interpolation='nearest', cmap=plt.cm.Wistia)\n",
        "        classNames = ['Negative','Positive']\n",
        "        plt.title('Fake News Detection')\n",
        "        plt.ylabel('True label')\n",
        "        plt.xlabel('Predicted label')\n",
        "        tick_marks = np.arange(len(classNames))\n",
        "        plt.xticks(tick_marks, classNames, rotation=45)\n",
        "        plt.yticks(tick_marks, classNames)\n",
        "        for i in range(2):\n",
        "            for j in range(2):\n",
        "                plt.text(j,i, str(cm[i][j]))\n",
        "        plt.show()\n",
        "\n",
        "xtr,xte,ytr,yte = getEmbeddings('./train_u.csv')\n",
        "np.save('./xtr', xtr)\n",
        "np.save('./xte', xte)\n",
        "np.save('./ytr', ytr)\n",
        "np.save('./yte', yte)\n",
        "\n",
        "xtr = np.load('./xtr.npy')\n",
        "xte = np.load('./xte.npy')\n",
        "ytr = np.load('./ytr.npy')\n",
        "yte = np.load('./yte.npy')\n",
        "\n",
        "def baseline_model():\n",
        "    '''Neural network with 3 hidden layers'''\n",
        "    model = Sequential()\n",
        "    model.add(Dense(256, input_dim=300, activation='relu', kernel_initializer='normal'))\n",
        "    model.add(Dropout(0.3))\n",
        "    model.add(Dense(256, activation='relu', kernel_initializer='normal'))\n",
        "    model.add(Dropout(0.5))\n",
        "    model.add(Dense(80, activation='relu', kernel_initializer='normal'))\n",
        "    model.add(Dense(2, activation=\"softmax\", kernel_initializer='normal'))\n",
        "\n",
        "    # gradient descent\n",
        "    sgd = SGD(lr=0.01, decay=1e-6, momentum=0.9, nesterov=True)\n",
        "    \n",
        "    # configure the learning process of the model\n",
        "    model.compile(loss='categorical_crossentropy', optimizer=sgd, metrics=['accuracy'])\n",
        "    return model\n",
        "model = baseline_model()\n",
        "model.summary()\n",
        "x_train, x_test, y_train, y_test = train_test_split(xtr, ytr, test_size=0.2, random_state=42)\n",
        "label_encoder = LabelEncoder()\n",
        "label_encoder.fit(y_train)\n",
        "encoded_y = np_utils.to_categorical((label_encoder.transform(y_train)))\n",
        "label_encoder.fit(y_test)\n",
        "encoded_y_test = np_utils.to_categorical((label_encoder.transform(y_test)))\n",
        "estimator = model.fit(x_train, encoded_y, epochs=200, batch_size=64)\n",
        "\n",
        "score = model.evaluate(x_test, encoded_y_test)\n",
        "\n",
        "print(\"Accuracy = \" + format(score[1]*100, '.2f') + \"%\")  \n",
        "\n",
        "probabs = model.predict(x_test)\n",
        "y_pred = np.argmax(probabs, axis=1)\n",
        " \n",
        "plot_cmat(y_test, y_pred)"
      ]
    },
    {
      "cell_type": "code",
      "source": [
        ""
      ],
      "metadata": {
        "id": "2-d-NFKGLiuG"
      },
      "execution_count": 96,
      "outputs": []
    },
    {
      "cell_type": "code",
      "source": [
        ""
      ],
      "metadata": {
        "id": "4P4L1gwSLU-7"
      },
      "execution_count": 97,
      "outputs": []
    },
    {
      "cell_type": "code",
      "source": [
        ""
      ],
      "metadata": {
        "id": "XDIFf90fLZn6"
      },
      "execution_count": 135,
      "outputs": []
    },
    {
      "cell_type": "code",
      "source": [
        ""
      ],
      "metadata": {
        "id": "dJ0OqyzyLe63"
      },
      "execution_count": 99,
      "outputs": []
    },
    {
      "cell_type": "code",
      "source": [
        ""
      ],
      "metadata": {
        "colab": {
          "base_uri": "https://localhost:8080/"
        },
        "id": "fle1k1GULn3z",
        "outputId": "89f1d165-6c35-4aaa-f851-650d846adf01"
      },
      "execution_count": 136,
      "outputs": [
        {
          "output_type": "stream",
          "name": "stderr",
          "text": [
            "/usr/local/lib/python3.7/dist-packages/ipykernel_launcher.py:19: DeprecationWarning: Call to deprecated `LabeledSentence` (Class will be removed in 4.0.0, use TaggedDocument instead).\n",
            "/usr/local/lib/python3.7/dist-packages/ipykernel_launcher.py:15: DeprecationWarning: Call to deprecated `iter` (Attribute will be removed in 4.0.0, use self.epochs instead).\n",
            "  from ipykernel import kernelapp as app\n"
          ]
        }
      ]
    },
    {
      "cell_type": "code",
      "source": [
        ""
      ],
      "metadata": {
        "id": "YDThc43DLsKi"
      },
      "execution_count": 137,
      "outputs": []
    },
    {
      "cell_type": "code",
      "source": [
        ""
      ],
      "metadata": {
        "id": "jzuwp4OvLwZQ"
      },
      "execution_count": 138,
      "outputs": []
    },
    {
      "cell_type": "code",
      "source": [
        ""
      ],
      "metadata": {
        "colab": {
          "base_uri": "https://localhost:8080/",
          "height": 1000
        },
        "id": "4Pyn5l6rLzlR",
        "outputId": "b143eb69-f56a-410d-bdf4-2e3aee5328d2"
      },
      "execution_count": 178,
      "outputs": [
        {
          "output_type": "stream",
          "name": "stdout",
          "text": [
            "Model: \"sequential_6\"\n",
            "_________________________________________________________________\n",
            " Layer (type)                Output Shape              Param #   \n",
            "=================================================================\n",
            " dense_12 (Dense)            (None, 256)               77056     \n",
            "                                                                 \n",
            " dropout_4 (Dropout)         (None, 256)               0         \n",
            "                                                                 \n",
            " dense_13 (Dense)            (None, 256)               65792     \n",
            "                                                                 \n",
            " dropout_5 (Dropout)         (None, 256)               0         \n",
            "                                                                 \n",
            " dense_14 (Dense)            (None, 80)                20560     \n",
            "                                                                 \n",
            " dense_15 (Dense)            (None, 2)                 162       \n",
            "                                                                 \n",
            "=================================================================\n",
            "Total params: 163,570\n",
            "Trainable params: 163,570\n",
            "Non-trainable params: 0\n",
            "_________________________________________________________________\n",
            "Epoch 1/200\n",
            "WARNING:tensorflow:Model was constructed with shape (None, 300) for input KerasTensor(type_spec=TensorSpec(shape=(None, 300), dtype=tf.float32, name='dense_12_input'), name='dense_12_input', description=\"created by layer 'dense_12_input'\"), but it was called on an input with incompatible shape (None,).\n"
          ]
        },
        {
          "output_type": "stream",
          "name": "stderr",
          "text": [
            "/usr/local/lib/python3.7/dist-packages/keras/optimizer_v2/gradient_descent.py:102: UserWarning: The `lr` argument is deprecated, use `learning_rate` instead.\n",
            "  super(SGD, self).__init__(name, **kwargs)\n"
          ]
        },
        {
          "output_type": "error",
          "ename": "ValueError",
          "evalue": "ignored",
          "traceback": [
            "\u001b[0;31m---------------------------------------------------------------------------\u001b[0m",
            "\u001b[0;31mValueError\u001b[0m                                Traceback (most recent call last)",
            "\u001b[0;32m<ipython-input-178-21d3ba73b9f8>\u001b[0m in \u001b[0;36m<module>\u001b[0;34m()\u001b[0m\n\u001b[1;32m      7\u001b[0m \u001b[0mlabel_encoder\u001b[0m\u001b[0;34m.\u001b[0m\u001b[0mfit\u001b[0m\u001b[0;34m(\u001b[0m\u001b[0my_test\u001b[0m\u001b[0;34m)\u001b[0m\u001b[0;34m\u001b[0m\u001b[0;34m\u001b[0m\u001b[0m\n\u001b[1;32m      8\u001b[0m \u001b[0mencoded_y_test\u001b[0m \u001b[0;34m=\u001b[0m \u001b[0mnp_utils\u001b[0m\u001b[0;34m.\u001b[0m\u001b[0mto_categorical\u001b[0m\u001b[0;34m(\u001b[0m\u001b[0;34m(\u001b[0m\u001b[0mlabel_encoder\u001b[0m\u001b[0;34m.\u001b[0m\u001b[0mtransform\u001b[0m\u001b[0;34m(\u001b[0m\u001b[0my_test\u001b[0m\u001b[0;34m)\u001b[0m\u001b[0;34m)\u001b[0m\u001b[0;34m)\u001b[0m\u001b[0;34m\u001b[0m\u001b[0;34m\u001b[0m\u001b[0m\n\u001b[0;32m----> 9\u001b[0;31m \u001b[0mestimator\u001b[0m \u001b[0;34m=\u001b[0m \u001b[0mmodel\u001b[0m\u001b[0;34m.\u001b[0m\u001b[0mfit\u001b[0m\u001b[0;34m(\u001b[0m\u001b[0mx_train\u001b[0m\u001b[0;34m,\u001b[0m \u001b[0mencoded_y\u001b[0m\u001b[0;34m,\u001b[0m \u001b[0mepochs\u001b[0m\u001b[0;34m=\u001b[0m\u001b[0;36m200\u001b[0m\u001b[0;34m,\u001b[0m \u001b[0mbatch_size\u001b[0m\u001b[0;34m=\u001b[0m\u001b[0;36m64\u001b[0m\u001b[0;34m)\u001b[0m\u001b[0;34m\u001b[0m\u001b[0;34m\u001b[0m\u001b[0m\n\u001b[0m\u001b[1;32m     10\u001b[0m \u001b[0;34m\u001b[0m\u001b[0m\n\u001b[1;32m     11\u001b[0m \u001b[0mscore\u001b[0m \u001b[0;34m=\u001b[0m \u001b[0mmodel\u001b[0m\u001b[0;34m.\u001b[0m\u001b[0mevaluate\u001b[0m\u001b[0;34m(\u001b[0m\u001b[0mx_test\u001b[0m\u001b[0;34m,\u001b[0m \u001b[0mencoded_y_test\u001b[0m\u001b[0;34m)\u001b[0m\u001b[0;34m\u001b[0m\u001b[0;34m\u001b[0m\u001b[0m\n",
            "\u001b[0;32m/usr/local/lib/python3.7/dist-packages/keras/utils/traceback_utils.py\u001b[0m in \u001b[0;36merror_handler\u001b[0;34m(*args, **kwargs)\u001b[0m\n\u001b[1;32m     65\u001b[0m     \u001b[0;32mexcept\u001b[0m \u001b[0mException\u001b[0m \u001b[0;32mas\u001b[0m \u001b[0me\u001b[0m\u001b[0;34m:\u001b[0m  \u001b[0;31m# pylint: disable=broad-except\u001b[0m\u001b[0;34m\u001b[0m\u001b[0;34m\u001b[0m\u001b[0m\n\u001b[1;32m     66\u001b[0m       \u001b[0mfiltered_tb\u001b[0m \u001b[0;34m=\u001b[0m \u001b[0m_process_traceback_frames\u001b[0m\u001b[0;34m(\u001b[0m\u001b[0me\u001b[0m\u001b[0;34m.\u001b[0m\u001b[0m__traceback__\u001b[0m\u001b[0;34m)\u001b[0m\u001b[0;34m\u001b[0m\u001b[0;34m\u001b[0m\u001b[0m\n\u001b[0;32m---> 67\u001b[0;31m       \u001b[0;32mraise\u001b[0m \u001b[0me\u001b[0m\u001b[0;34m.\u001b[0m\u001b[0mwith_traceback\u001b[0m\u001b[0;34m(\u001b[0m\u001b[0mfiltered_tb\u001b[0m\u001b[0;34m)\u001b[0m \u001b[0;32mfrom\u001b[0m \u001b[0;32mNone\u001b[0m\u001b[0;34m\u001b[0m\u001b[0;34m\u001b[0m\u001b[0m\n\u001b[0m\u001b[1;32m     68\u001b[0m     \u001b[0;32mfinally\u001b[0m\u001b[0;34m:\u001b[0m\u001b[0;34m\u001b[0m\u001b[0;34m\u001b[0m\u001b[0m\n\u001b[1;32m     69\u001b[0m       \u001b[0;32mdel\u001b[0m \u001b[0mfiltered_tb\u001b[0m\u001b[0;34m\u001b[0m\u001b[0;34m\u001b[0m\u001b[0m\n",
            "\u001b[0;32m/usr/local/lib/python3.7/dist-packages/tensorflow/python/framework/func_graph.py\u001b[0m in \u001b[0;36mautograph_handler\u001b[0;34m(*args, **kwargs)\u001b[0m\n\u001b[1;32m   1145\u001b[0m           \u001b[0;32mexcept\u001b[0m \u001b[0mException\u001b[0m \u001b[0;32mas\u001b[0m \u001b[0me\u001b[0m\u001b[0;34m:\u001b[0m  \u001b[0;31m# pylint:disable=broad-except\u001b[0m\u001b[0;34m\u001b[0m\u001b[0;34m\u001b[0m\u001b[0m\n\u001b[1;32m   1146\u001b[0m             \u001b[0;32mif\u001b[0m \u001b[0mhasattr\u001b[0m\u001b[0;34m(\u001b[0m\u001b[0me\u001b[0m\u001b[0;34m,\u001b[0m \u001b[0;34m\"ag_error_metadata\"\u001b[0m\u001b[0;34m)\u001b[0m\u001b[0;34m:\u001b[0m\u001b[0;34m\u001b[0m\u001b[0;34m\u001b[0m\u001b[0m\n\u001b[0;32m-> 1147\u001b[0;31m               \u001b[0;32mraise\u001b[0m \u001b[0me\u001b[0m\u001b[0;34m.\u001b[0m\u001b[0mag_error_metadata\u001b[0m\u001b[0;34m.\u001b[0m\u001b[0mto_exception\u001b[0m\u001b[0;34m(\u001b[0m\u001b[0me\u001b[0m\u001b[0;34m)\u001b[0m\u001b[0;34m\u001b[0m\u001b[0;34m\u001b[0m\u001b[0m\n\u001b[0m\u001b[1;32m   1148\u001b[0m             \u001b[0;32melse\u001b[0m\u001b[0;34m:\u001b[0m\u001b[0;34m\u001b[0m\u001b[0;34m\u001b[0m\u001b[0m\n\u001b[1;32m   1149\u001b[0m               \u001b[0;32mraise\u001b[0m\u001b[0;34m\u001b[0m\u001b[0;34m\u001b[0m\u001b[0m\n",
            "\u001b[0;31mValueError\u001b[0m: in user code:\n\n    File \"/usr/local/lib/python3.7/dist-packages/keras/engine/training.py\", line 1021, in train_function  *\n        return step_function(self, iterator)\n    File \"/usr/local/lib/python3.7/dist-packages/keras/engine/training.py\", line 1010, in step_function  **\n        outputs = model.distribute_strategy.run(run_step, args=(data,))\n    File \"/usr/local/lib/python3.7/dist-packages/keras/engine/training.py\", line 1000, in run_step  **\n        outputs = model.train_step(data)\n    File \"/usr/local/lib/python3.7/dist-packages/keras/engine/training.py\", line 859, in train_step\n        y_pred = self(x, training=True)\n    File \"/usr/local/lib/python3.7/dist-packages/keras/utils/traceback_utils.py\", line 67, in error_handler\n        raise e.with_traceback(filtered_tb) from None\n    File \"/usr/local/lib/python3.7/dist-packages/keras/engine/input_spec.py\", line 228, in assert_input_compatibility\n        raise ValueError(f'Input {input_index} of layer \"{layer_name}\" '\n\n    ValueError: Exception encountered when calling layer \"sequential_6\" (type Sequential).\n    \n    Input 0 of layer \"dense_12\" is incompatible with the layer: expected min_ndim=2, found ndim=1. Full shape received: (None,)\n    \n    Call arguments received:\n      • inputs=tf.Tensor(shape=(None,), dtype=string)\n      • training=True\n      • mask=None\n"
          ]
        }
      ]
    },
    {
      "cell_type": "code",
      "source": [
        ""
      ],
      "metadata": {
        "colab": {
          "base_uri": "https://localhost:8080/"
        },
        "id": "lvxMOMZJSsVN",
        "outputId": "61fc7c1a-b92b-42b8-b7f3-296061b14ea6"
      },
      "execution_count": 141,
      "outputs": [
        {
          "output_type": "stream",
          "name": "stdout",
          "text": [
            "Accuracy = 54.82%\n"
          ]
        }
      ]
    },
    {
      "cell_type": "code",
      "source": [
        ""
      ],
      "metadata": {
        "colab": {
          "base_uri": "https://localhost:8080/",
          "height": 324
        },
        "id": "M4668vvbSk5M",
        "outputId": "426bb3c2-1a33-4933-b8f6-1f2c2c85ae6a"
      },
      "execution_count": 140,
      "outputs": [
        {
          "output_type": "display_data",
          "data": {
            "text/plain": [
              "<Figure size 432x288 with 1 Axes>"
            ],
            "image/png": "[encoded data removed]"
          },
          "metadata": {
            "needs_background": "light"
          }
        }
      ]
    },
    {
      "cell_type": "markdown",
      "source": [
        "#Tried LSTM with a modified version of the previous paper, didn't get expected results, left for future learning.\n",
        "\n",
        "made errors in processing the data inputs. Due to lack of time, not resolving bugs."
      ],
      "metadata": {
        "id": "AaNHV6Q8MLmF"
      }
    },
    {
      "cell_type": "code",
      "source": [
        "import numpy as np\n",
        "import re\n",
        "import string\n",
        "import pandas as pd\n",
        "from gensim.models import Doc2Vec\n",
        "from gensim.models.doc2vec import LabeledSentence\n",
        "from gensim import utils\n",
        "from nltk.corpus import stopwords"
      ],
      "metadata": {
        "id": "d5Ck5axsMNhl"
      },
      "execution_count": 101,
      "outputs": []
    },
    {
      "cell_type": "code",
      "source": [
        "import numpy as np\n",
        "from keras.datasets import imdb\n",
        "from keras.models import Sequential\n",
        "from keras.layers import Dense\n",
        "from keras.layers import LSTM\n",
        "from keras.layers.embeddings import Embedding\n",
        "from keras.preprocessing import sequence\n",
        "from collections import Counter\n",
        "import os\n",
        "#import getEmbeddings2\n",
        "import matplotlib.pyplot as plt\n",
        "#import scikitplot.plotters as skplt"
      ],
      "metadata": {
        "id": "EZXry1G4Mdeq"
      },
      "execution_count": 105,
      "outputs": []
    },
    {
      "cell_type": "code",
      "source": [
        "top_words = 5000\n",
        "epoch_num = 20\n",
        "batch_size = 64"
      ],
      "metadata": {
        "id": "s3PhR-MNMYR3"
      },
      "execution_count": 106,
      "outputs": []
    },
    {
      "cell_type": "code",
      "source": [
        "if not os.path.isfile('./xtr_shuffled.npy') or \\\n",
        "    not os.path.isfile('./xte_shuffled.npy') or \\\n",
        "    not os.path.isfile('./ytr_shuffled.npy') or \\\n",
        "    not os.path.isfile('./yte_shuffled.npy'):\n",
        "    getEmbeddings('./train_u.csv')"
      ],
      "metadata": {
        "id": "sqjzbCS5Mgi9"
      },
      "execution_count": 181,
      "outputs": []
    },
    {
      "cell_type": "code",
      "source": [
        "xtr = np.load('./xtr_shuffled.npy',allow_pickle=True)\n",
        "xte = np.load('./xte_shuffled.npy',allow_pickle=True)\n",
        "y_train = np.load('./ytr_shuffled.npy',allow_pickle=True)\n",
        "y_test = np.load('./yte_shuffled.npy',allow_pickle=True)"
      ],
      "metadata": {
        "id": "xkVNti3vMlZZ"
      },
      "execution_count": 182,
      "outputs": []
    },
    {
      "cell_type": "code",
      "source": [
        "cnt = Counter()\n",
        "x_train = []\n",
        "for x in xtr:\n",
        "    x_train.append(x.split())\n",
        "    for word in x_train[-1]:\n",
        "        cnt[word] += 1  "
      ],
      "metadata": {
        "id": "aqBEdYoNMns2"
      },
      "execution_count": 183,
      "outputs": []
    },
    {
      "cell_type": "code",
      "source": [
        "# Storing most common words\n",
        "most_common = cnt.most_common(top_words + 1)\n",
        "word_bank = {}\n",
        "id_num = 1\n",
        "for word, freq in most_common:\n",
        "    word_bank[word] = id_num\n",
        "    id_num += 1\n",
        "\n",
        "# Encode the sentences\n",
        "for news in x_train:\n",
        "    i = 0\n",
        "    while i < len(news):\n",
        "        if news[i] in word_bank:\n",
        "            news[i] = word_bank[news[i]]\n",
        "            i += 1\n",
        "        else:\n",
        "            del news[i]\n",
        "\n",
        "y_train = list(y_train)\n",
        "y_test = list(y_test)"
      ],
      "metadata": {
        "id": "DJLkeb_mMpi8"
      },
      "execution_count": 184,
      "outputs": []
    },
    {
      "cell_type": "code",
      "source": [
        "# Delete the short news\n",
        "i = 0\n",
        "while i < len(x_train):\n",
        "    if len(x_train[i]) > 10:\n",
        "        i += 1\n",
        "    else:\n",
        "        del x_train[i]\n",
        "        del y_train[i]\n",
        "\n",
        "# Generating test data\n",
        "x_test = []\n",
        "for x in xte:\n",
        "    x_test.append(x.split())\n",
        "\n",
        "# Encode the sentences\n",
        "for news in x_test:\n",
        "    i = 0\n",
        "    while i < len(news):\n",
        "        if news[i] in word_bank:\n",
        "            news[i] = word_bank[news[i]]\n",
        "            i += 1\n",
        "        else:\n",
        "            del news[i]"
      ],
      "metadata": {
        "id": "s9USQysIMr3g"
      },
      "execution_count": 185,
      "outputs": []
    },
    {
      "cell_type": "code",
      "source": [
        "# Truncate and pad input sequences\n",
        "max_review_length = 500\n",
        "X_train = sequence.pad_sequences(x_train, maxlen=max_review_length)\n",
        "X_test = sequence.pad_sequences(x_test, maxlen=max_review_length)\n",
        "\n",
        "# Convert to numpy arrays\n",
        "y_train = np.array(y_train)\n",
        "y_test = np.array(y_test)"
      ],
      "metadata": {
        "id": "IsPaXWqcMt08"
      },
      "execution_count": 186,
      "outputs": []
    },
    {
      "cell_type": "code",
      "source": [
        "X_train.shape"
      ],
      "metadata": {
        "colab": {
          "base_uri": "https://localhost:8080/"
        },
        "id": "h_JokPk3TkwM",
        "outputId": "f81935a0-5777-42c3-86a9-cf03cf756e85"
      },
      "execution_count": 187,
      "outputs": [
        {
          "output_type": "execute_result",
          "data": {
            "text/plain": [
              "(3350, 500)"
            ]
          },
          "metadata": {},
          "execution_count": 187
        }
      ]
    },
    {
      "cell_type": "code",
      "source": [
        "y_train.shape"
      ],
      "metadata": {
        "colab": {
          "base_uri": "https://localhost:8080/"
        },
        "id": "yyrdxGmfTns2",
        "outputId": "3a0daff0-31b3-4140-a18b-94530b736119"
      },
      "execution_count": 188,
      "outputs": [
        {
          "output_type": "execute_result",
          "data": {
            "text/plain": [
              "(3350,)"
            ]
          },
          "metadata": {},
          "execution_count": 188
        }
      ]
    },
    {
      "cell_type": "code",
      "source": [
        "# Create the model\n",
        "embedding_vector_length = 32\n",
        "model = Sequential()\n",
        "model.add(Embedding(top_words+2, embedding_vector_length, input_length=max_review_length))\n",
        "model.add(LSTM(100))\n",
        "model.add(Dense(1, activation='sigmoid'))\n",
        "model.compile(loss='binary_crossentropy', optimizer='adam', metrics=['accuracy'])\n",
        "print(model.summary())\n",
        "model.fit(X_train, y_train, validation_data=(X_test, y_test), epochs=epoch_num, batch_size=batch_size)\n",
        "\n",
        "# Final evaluation of the model\n",
        "scores = model.evaluate(X_test, y_test, verbose=0)\n",
        "print(\"Accuracy= %.2f%%\" % (scores[1]*100))\n",
        "\n"
      ],
      "metadata": {
        "colab": {
          "base_uri": "https://localhost:8080/"
        },
        "id": "buubVBOIMvh6",
        "outputId": "c4fa85e9-9e8d-429f-f4e4-c9cc1e3d0ec6"
      },
      "execution_count": 189,
      "outputs": [
        {
          "output_type": "stream",
          "name": "stdout",
          "text": [
            "Model: \"sequential_8\"\n",
            "_________________________________________________________________\n",
            " Layer (type)                Output Shape              Param #   \n",
            "=================================================================\n",
            " embedding_5 (Embedding)     (None, 500, 32)           160064    \n",
            "                                                                 \n",
            " lstm_5 (LSTM)               (None, 100)               53200     \n",
            "                                                                 \n",
            " dense_17 (Dense)            (None, 1)                 101       \n",
            "                                                                 \n",
            "=================================================================\n",
            "Total params: 213,365\n",
            "Trainable params: 213,365\n",
            "Non-trainable params: 0\n",
            "_________________________________________________________________\n",
            "None\n",
            "Epoch 1/20\n",
            "53/53 [==============================] - 5s 44ms/step - loss: 0.6793 - accuracy: 0.5821 - val_loss: 0.6833 - val_accuracy: 0.5635\n",
            "Epoch 2/20\n",
            "53/53 [==============================] - 2s 34ms/step - loss: 0.6280 - accuracy: 0.6525 - val_loss: 0.6789 - val_accuracy: 0.5688\n",
            "Epoch 3/20\n",
            "53/53 [==============================] - 2s 34ms/step - loss: 0.4946 - accuracy: 0.7854 - val_loss: 0.7717 - val_accuracy: 0.5396\n",
            "Epoch 4/20\n",
            "53/53 [==============================] - 2s 33ms/step - loss: 0.3658 - accuracy: 0.8475 - val_loss: 0.9002 - val_accuracy: 0.5322\n",
            "Epoch 5/20\n",
            "53/53 [==============================] - 2s 33ms/step - loss: 0.2629 - accuracy: 0.9006 - val_loss: 0.9762 - val_accuracy: 0.5493\n",
            "Epoch 6/20\n",
            "53/53 [==============================] - 2s 33ms/step - loss: 0.1776 - accuracy: 0.9361 - val_loss: 1.1123 - val_accuracy: 0.5615\n",
            "Epoch 7/20\n",
            "53/53 [==============================] - 2s 34ms/step - loss: 0.1298 - accuracy: 0.9594 - val_loss: 1.0546 - val_accuracy: 0.5547\n",
            "Epoch 8/20\n",
            "53/53 [==============================] - 2s 33ms/step - loss: 0.1520 - accuracy: 0.9576 - val_loss: 1.3825 - val_accuracy: 0.5562\n",
            "Epoch 9/20\n",
            "53/53 [==============================] - 2s 33ms/step - loss: 0.0665 - accuracy: 0.9809 - val_loss: 1.6979 - val_accuracy: 0.5454\n",
            "Epoch 10/20\n",
            "53/53 [==============================] - 2s 33ms/step - loss: 0.0348 - accuracy: 0.9931 - val_loss: 1.8730 - val_accuracy: 0.5410\n",
            "Epoch 11/20\n",
            "53/53 [==============================] - 2s 34ms/step - loss: 0.0186 - accuracy: 0.9970 - val_loss: 2.2320 - val_accuracy: 0.5439\n",
            "Epoch 12/20\n",
            "53/53 [==============================] - 2s 33ms/step - loss: 0.0092 - accuracy: 0.9994 - val_loss: 2.3557 - val_accuracy: 0.5410\n",
            "Epoch 13/20\n",
            "53/53 [==============================] - 2s 38ms/step - loss: 0.0054 - accuracy: 0.9994 - val_loss: 2.4497 - val_accuracy: 0.5420\n",
            "Epoch 14/20\n",
            "53/53 [==============================] - 2s 40ms/step - loss: 0.0044 - accuracy: 0.9997 - val_loss: 2.8661 - val_accuracy: 0.5454\n",
            "Epoch 15/20\n",
            "53/53 [==============================] - 2s 33ms/step - loss: 0.0040 - accuracy: 0.9994 - val_loss: 2.7755 - val_accuracy: 0.5435\n",
            "Epoch 16/20\n",
            "53/53 [==============================] - 2s 34ms/step - loss: 0.0027 - accuracy: 0.9994 - val_loss: 2.9901 - val_accuracy: 0.5371\n",
            "Epoch 17/20\n",
            "53/53 [==============================] - 2s 33ms/step - loss: 0.0025 - accuracy: 0.9994 - val_loss: 2.9666 - val_accuracy: 0.5303\n",
            "Epoch 18/20\n",
            "53/53 [==============================] - 2s 34ms/step - loss: 0.0021 - accuracy: 0.9997 - val_loss: 3.3742 - val_accuracy: 0.5366\n",
            "Epoch 19/20\n",
            "53/53 [==============================] - 2s 40ms/step - loss: 0.0013 - accuracy: 0.9997 - val_loss: 3.2125 - val_accuracy: 0.5444\n",
            "Epoch 20/20\n",
            "53/53 [==============================] - 3s 50ms/step - loss: 0.6774 - accuracy: 0.9045 - val_loss: 1.3204 - val_accuracy: 0.5215\n",
            "Accuracy= 52.15%\n"
          ]
        }
      ]
    },
    {
      "cell_type": "code",
      "source": [
        ""
      ],
      "metadata": {
        "id": "XF5s8ZTBZIee"
      },
      "execution_count": null,
      "outputs": []
    },
    {
      "cell_type": "code",
      "source": [
        "# Draw the confusion matrix\n",
        "y_pred = model.predict(X_test)\n",
        "y_pred=np.argmax(y_pred,axis=1)\n",
        "plot_cmat(y_test, y_pred)\n",
        "\n"
      ],
      "metadata": {
        "colab": {
          "base_uri": "https://localhost:8080/",
          "height": 363
        },
        "id": "Ko-64Oh7RioD",
        "outputId": "1ab8b857-1c80-4ca5-9445-d8ba78d76d28"
      },
      "execution_count": 204,
      "outputs": [
        {
          "output_type": "error",
          "ename": "ValueError",
          "evalue": "ignored",
          "traceback": [
            "\u001b[0;31m---------------------------------------------------------------------------\u001b[0m",
            "\u001b[0;31mValueError\u001b[0m                                Traceback (most recent call last)",
            "\u001b[0;32m<ipython-input-204-c2b70330c825>\u001b[0m in \u001b[0;36m<module>\u001b[0;34m()\u001b[0m\n\u001b[1;32m      2\u001b[0m \u001b[0my_pred\u001b[0m \u001b[0;34m=\u001b[0m \u001b[0mmodel\u001b[0m\u001b[0;34m.\u001b[0m\u001b[0mpredict\u001b[0m\u001b[0;34m(\u001b[0m\u001b[0mX_test\u001b[0m\u001b[0;34m)\u001b[0m\u001b[0;34m\u001b[0m\u001b[0;34m\u001b[0m\u001b[0m\n\u001b[1;32m      3\u001b[0m \u001b[0;34m\u001b[0m\u001b[0m\n\u001b[0;32m----> 4\u001b[0;31m \u001b[0mplot_cmat\u001b[0m\u001b[0;34m(\u001b[0m\u001b[0my_test\u001b[0m\u001b[0;34m,\u001b[0m \u001b[0my_pred\u001b[0m\u001b[0;34m)\u001b[0m\u001b[0;34m\u001b[0m\u001b[0;34m\u001b[0m\u001b[0m\n\u001b[0m\u001b[1;32m      5\u001b[0m \u001b[0;34m\u001b[0m\u001b[0m\n",
            "\u001b[0;32m<ipython-input-99-17c5c4ce8109>\u001b[0m in \u001b[0;36mplot_cmat\u001b[0;34m(yte, ypred)\u001b[0m\n\u001b[1;32m      1\u001b[0m \u001b[0;32mdef\u001b[0m \u001b[0mplot_cmat\u001b[0m\u001b[0;34m(\u001b[0m\u001b[0myte\u001b[0m\u001b[0;34m,\u001b[0m \u001b[0mypred\u001b[0m\u001b[0;34m)\u001b[0m\u001b[0;34m:\u001b[0m\u001b[0;34m\u001b[0m\u001b[0;34m\u001b[0m\u001b[0m\n\u001b[1;32m      2\u001b[0m         \u001b[0;34m'''Plotting confusion matrix'''\u001b[0m\u001b[0;34m\u001b[0m\u001b[0;34m\u001b[0m\u001b[0m\n\u001b[0;32m----> 3\u001b[0;31m         \u001b[0mcm\u001b[0m \u001b[0;34m=\u001b[0m \u001b[0mconfusion_matrix\u001b[0m\u001b[0;34m(\u001b[0m\u001b[0myte\u001b[0m\u001b[0;34m,\u001b[0m\u001b[0mypred\u001b[0m\u001b[0;34m)\u001b[0m\u001b[0;34m\u001b[0m\u001b[0;34m\u001b[0m\u001b[0m\n\u001b[0m\u001b[1;32m      4\u001b[0m         \u001b[0mplt\u001b[0m\u001b[0;34m.\u001b[0m\u001b[0mclf\u001b[0m\u001b[0;34m(\u001b[0m\u001b[0;34m)\u001b[0m\u001b[0;34m\u001b[0m\u001b[0;34m\u001b[0m\u001b[0m\n\u001b[1;32m      5\u001b[0m         \u001b[0mplt\u001b[0m\u001b[0;34m.\u001b[0m\u001b[0mimshow\u001b[0m\u001b[0;34m(\u001b[0m\u001b[0mcm\u001b[0m\u001b[0;34m,\u001b[0m \u001b[0minterpolation\u001b[0m\u001b[0;34m=\u001b[0m\u001b[0;34m'nearest'\u001b[0m\u001b[0;34m,\u001b[0m \u001b[0mcmap\u001b[0m\u001b[0;34m=\u001b[0m\u001b[0mplt\u001b[0m\u001b[0;34m.\u001b[0m\u001b[0mcm\u001b[0m\u001b[0;34m.\u001b[0m\u001b[0mWistia\u001b[0m\u001b[0;34m)\u001b[0m\u001b[0;34m\u001b[0m\u001b[0;34m\u001b[0m\u001b[0m\n",
            "\u001b[0;32m/usr/local/lib/python3.7/dist-packages/sklearn/metrics/_classification.py\u001b[0m in \u001b[0;36mconfusion_matrix\u001b[0;34m(y_true, y_pred, labels, sample_weight, normalize)\u001b[0m\n\u001b[1;32m    305\u001b[0m     \u001b[0;34m(\u001b[0m\u001b[0;36m0\u001b[0m\u001b[0;34m,\u001b[0m \u001b[0;36m2\u001b[0m\u001b[0;34m,\u001b[0m \u001b[0;36m1\u001b[0m\u001b[0;34m,\u001b[0m \u001b[0;36m1\u001b[0m\u001b[0;34m)\u001b[0m\u001b[0;34m\u001b[0m\u001b[0;34m\u001b[0m\u001b[0m\n\u001b[1;32m    306\u001b[0m     \"\"\"\n\u001b[0;32m--> 307\u001b[0;31m     \u001b[0my_type\u001b[0m\u001b[0;34m,\u001b[0m \u001b[0my_true\u001b[0m\u001b[0;34m,\u001b[0m \u001b[0my_pred\u001b[0m \u001b[0;34m=\u001b[0m \u001b[0m_check_targets\u001b[0m\u001b[0;34m(\u001b[0m\u001b[0my_true\u001b[0m\u001b[0;34m,\u001b[0m \u001b[0my_pred\u001b[0m\u001b[0;34m)\u001b[0m\u001b[0;34m\u001b[0m\u001b[0;34m\u001b[0m\u001b[0m\n\u001b[0m\u001b[1;32m    308\u001b[0m     \u001b[0;32mif\u001b[0m \u001b[0my_type\u001b[0m \u001b[0;32mnot\u001b[0m \u001b[0;32min\u001b[0m \u001b[0;34m(\u001b[0m\u001b[0;34m\"binary\"\u001b[0m\u001b[0;34m,\u001b[0m \u001b[0;34m\"multiclass\"\u001b[0m\u001b[0;34m)\u001b[0m\u001b[0;34m:\u001b[0m\u001b[0;34m\u001b[0m\u001b[0;34m\u001b[0m\u001b[0m\n\u001b[1;32m    309\u001b[0m         \u001b[0;32mraise\u001b[0m \u001b[0mValueError\u001b[0m\u001b[0;34m(\u001b[0m\u001b[0;34m\"%s is not supported\"\u001b[0m \u001b[0;34m%\u001b[0m \u001b[0my_type\u001b[0m\u001b[0;34m)\u001b[0m\u001b[0;34m\u001b[0m\u001b[0;34m\u001b[0m\u001b[0m\n",
            "\u001b[0;32m/usr/local/lib/python3.7/dist-packages/sklearn/metrics/_classification.py\u001b[0m in \u001b[0;36m_check_targets\u001b[0;34m(y_true, y_pred)\u001b[0m\n\u001b[1;32m     93\u001b[0m         raise ValueError(\n\u001b[1;32m     94\u001b[0m             \"Classification metrics can't handle a mix of {0} and {1} targets\".format(\n\u001b[0;32m---> 95\u001b[0;31m                 \u001b[0mtype_true\u001b[0m\u001b[0;34m,\u001b[0m \u001b[0mtype_pred\u001b[0m\u001b[0;34m\u001b[0m\u001b[0;34m\u001b[0m\u001b[0m\n\u001b[0m\u001b[1;32m     96\u001b[0m             )\n\u001b[1;32m     97\u001b[0m         )\n",
            "\u001b[0;31mValueError\u001b[0m: Classification metrics can't handle a mix of binary and continuous targets"
          ]
        }
      ]
    },
    {
      "cell_type": "code",
      "source": [
        "y_test"
      ],
      "metadata": {
        "colab": {
          "base_uri": "https://localhost:8080/"
        },
        "id": "6VVf6Pg3Uod0",
        "outputId": "e6e0e5c3-2d40-4154-fe11-836cd78a6857"
      },
      "execution_count": 160,
      "outputs": [
        {
          "output_type": "execute_result",
          "data": {
            "text/plain": [
              "array([ True,  True,  True, ...,  True, False, False])"
            ]
          },
          "metadata": {},
          "execution_count": 160
        }
      ]
    },
    {
      "cell_type": "code",
      "source": [
        "y_pred=y_pred.astype(int)"
      ],
      "metadata": {
        "id": "BtCYXo9HUp9W"
      },
      "execution_count": 201,
      "outputs": []
    },
    {
      "cell_type": "code",
      "source": [
        "y_pred"
      ],
      "metadata": {
        "colab": {
          "base_uri": "https://localhost:8080/"
        },
        "id": "SMoz1TD0Zwkw",
        "outputId": "d743dc48-8632-4152-b75d-41b6998977e6"
      },
      "execution_count": 202,
      "outputs": [
        {
          "output_type": "execute_result",
          "data": {
            "text/plain": [
              "array([[0],\n",
              "       [1],\n",
              "       [1],\n",
              "       ...,\n",
              "       [1],\n",
              "       [1],\n",
              "       [0]])"
            ]
          },
          "metadata": {},
          "execution_count": 202
        }
      ]
    },
    {
      "cell_type": "code",
      "source": [
        "for i in range(y_pred.shape[0]):\n",
        "  if y_pred[i]<0.5:\n",
        "    y_pred[i]=0\n",
        "  else:\n",
        "    y_pred[i]=1"
      ],
      "metadata": {
        "id": "mJVmqMRaZVHA"
      },
      "execution_count": 199,
      "outputs": []
    }
  ]
}